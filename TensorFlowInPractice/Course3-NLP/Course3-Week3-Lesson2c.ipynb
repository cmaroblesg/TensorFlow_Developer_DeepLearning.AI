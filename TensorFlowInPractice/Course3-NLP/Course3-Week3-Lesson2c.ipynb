{
  "nbformat": 4,
  "nbformat_minor": 0,
  "metadata": {
    "accelerator": "GPU",
    "colab": {
      "name": "Course 3 - Week 3 - Lesson 2c.ipynb",
      "provenance": [],
      "collapsed_sections": [],
      "toc_visible": true
    },
    "kernelspec": {
      "display_name": "Python 3",
      "language": "python",
      "name": "python3"
    },
    "language_info": {
      "codemirror_mode": {
        "name": "ipython",
        "version": 3
      },
      "file_extension": ".py",
      "mimetype": "text/x-python",
      "name": "python",
      "nbconvert_exporter": "python",
      "pygments_lexer": "ipython3",
      "version": "3.7.6"
    }
  },
  "cells": [
    {
      "cell_type": "code",
      "metadata": {
        "id": "zX4Kg8DUTKWO"
      },
      "source": [
        "#@title Licensed under the Apache License, Version 2.0 (the \"License\");\n",
        "# you may not use this file except in compliance with the License.\n",
        "# You may obtain a copy of the License at\n",
        "#\n",
        "# https://www.apache.org/licenses/LICENSE-2.0\n",
        "#\n",
        "# Unless required by applicable law or agreed to in writing, software\n",
        "# distributed under the License is distributed on an \"AS IS\" BASIS,\n",
        "# WITHOUT WARRANTIES OR CONDITIONS OF ANY KIND, either express or implied.\n",
        "# See the License for the specific language governing permissions and\n",
        "# limitations under the License."
      ],
      "execution_count": 1,
      "outputs": []
    },
    {
      "cell_type": "markdown",
      "metadata": {
        "id": "nAVscie36_y6"
      },
      "source": [
        "<a href=\"https://colab.research.google.com/github/lmoroney/dlaicourse/blob/master/TensorFlow%20In%20Practice/Course%203%20-%20NLP/Course%203%20-%20Week%203%20-%20Lesson%202c.ipynb\" target=\"_parent\"><img src=\"https://colab.research.google.com/assets/colab-badge.svg\" alt=\"Open In Colab\"/></a>"
      ]
    },
    {
      "cell_type": "code",
      "metadata": {
        "colab": {
          "base_uri": "https://localhost:8080/"
        },
        "id": "jGwXGIXvFhXW",
        "outputId": "97a35e88-7938-479d-9811-8ecb6d3d5397"
      },
      "source": [
        "import numpy as np\n",
        "\n",
        "import json\n",
        "import tensorflow as tf\n",
        "\n",
        "from tensorflow.keras.preprocessing.text import Tokenizer\n",
        "from tensorflow.keras.preprocessing.sequence import pad_sequences\n",
        "\n",
        "!wget --no-check-certificate \\\n",
        "    https://storage.googleapis.com/laurencemoroney-blog.appspot.com/sarcasm.json \\\n",
        "    -O /tmp/sarcasm.json\n",
        "\n",
        "vocab_size = 1000\n",
        "embedding_dim = 16\n",
        "max_length = 120\n",
        "trunc_type='post'\n",
        "padding_type='post'\n",
        "oov_tok = \"<OOV>\"\n",
        "training_size = 20000\n",
        "\n",
        "\n",
        "with open(\"/tmp/sarcasm.json\", 'r') as f:\n",
        "    datastore = json.load(f)\n",
        "\n",
        "\n",
        "sentences = []\n",
        "labels = []\n",
        "urls = []\n",
        "for item in datastore:\n",
        "    sentences.append(item['headline'])\n",
        "    labels.append(item['is_sarcastic'])\n",
        "\n",
        "training_sentences = sentences[0:training_size]\n",
        "testing_sentences = sentences[training_size:]\n",
        "training_labels = labels[0:training_size]\n",
        "testing_labels = labels[training_size:]\n",
        "\n",
        "tokenizer = Tokenizer(num_words=vocab_size, oov_token=oov_tok)\n",
        "tokenizer.fit_on_texts(training_sentences)\n",
        "\n",
        "word_index = tokenizer.word_index\n",
        "\n",
        "training_sequences = tokenizer.texts_to_sequences(training_sentences)\n",
        "training_padded = pad_sequences(training_sequences, maxlen=max_length, padding=padding_type, truncating=trunc_type)\n",
        "\n",
        "testing_sequences = tokenizer.texts_to_sequences(testing_sentences)\n",
        "testing_padded = pad_sequences(testing_sequences, maxlen=max_length, padding=padding_type, truncating=trunc_type)\n",
        "\n",
        "model = tf.keras.Sequential([\n",
        "    tf.keras.layers.Embedding(vocab_size, embedding_dim, input_length=max_length),\n",
        "    tf.keras.layers.Conv1D(128, 5, activation='relu'),\n",
        "    tf.keras.layers.GlobalMaxPooling1D(),\n",
        "    tf.keras.layers.Dense(24, activation='relu'),\n",
        "    tf.keras.layers.Dense(1, activation='sigmoid')\n",
        "])\n",
        "model.compile(loss='binary_crossentropy',optimizer='adam',metrics=['accuracy'])\n",
        "model.summary()\n",
        "\n",
        "num_epochs = 50\n",
        "\n",
        "training_padded = np.array(training_padded)\n",
        "training_labels = np.array(training_labels)\n",
        "testing_padded = np.array(testing_padded)\n",
        "testing_labels = np.array(testing_labels)\n",
        "\n",
        "history = model.fit(training_padded, training_labels, epochs=num_epochs, validation_data=(testing_padded, testing_labels), verbose=1)\n"
      ],
      "execution_count": 2,
      "outputs": [
        {
          "output_type": "stream",
          "text": [
            "--2021-05-23 01:52:18--  https://storage.googleapis.com/laurencemoroney-blog.appspot.com/sarcasm.json\n",
            "Resolving storage.googleapis.com (storage.googleapis.com)... 172.253.63.128, 142.250.31.128, 142.250.73.208, ...\n",
            "Connecting to storage.googleapis.com (storage.googleapis.com)|172.253.63.128|:443... connected.\n",
            "HTTP request sent, awaiting response... 200 OK\n",
            "Length: 5643545 (5.4M) [application/json]\n",
            "Saving to: ‘/tmp/sarcasm.json’\n",
            "\n",
            "\r/tmp/sarcasm.json     0%[                    ]       0  --.-KB/s               \r/tmp/sarcasm.json   100%[===================>]   5.38M  --.-KB/s    in 0.04s   \n",
            "\n",
            "2021-05-23 01:52:18 (147 MB/s) - ‘/tmp/sarcasm.json’ saved [5643545/5643545]\n",
            "\n",
            "Model: \"sequential\"\n",
            "_________________________________________________________________\n",
            "Layer (type)                 Output Shape              Param #   \n",
            "=================================================================\n",
            "embedding (Embedding)        (None, 120, 16)           16000     \n",
            "_________________________________________________________________\n",
            "conv1d (Conv1D)              (None, 116, 128)          10368     \n",
            "_________________________________________________________________\n",
            "global_max_pooling1d (Global (None, 128)               0         \n",
            "_________________________________________________________________\n",
            "dense (Dense)                (None, 24)                3096      \n",
            "_________________________________________________________________\n",
            "dense_1 (Dense)              (None, 1)                 25        \n",
            "=================================================================\n",
            "Total params: 29,489\n",
            "Trainable params: 29,489\n",
            "Non-trainable params: 0\n",
            "_________________________________________________________________\n",
            "Epoch 1/50\n",
            "625/625 [==============================] - 35s 4ms/step - loss: 0.5672 - accuracy: 0.6639 - val_loss: 0.4145 - val_accuracy: 0.8120\n",
            "Epoch 2/50\n",
            "625/625 [==============================] - 2s 4ms/step - loss: 0.3596 - accuracy: 0.8435 - val_loss: 0.3870 - val_accuracy: 0.8283\n",
            "Epoch 3/50\n",
            "625/625 [==============================] - 2s 4ms/step - loss: 0.3099 - accuracy: 0.8675 - val_loss: 0.3918 - val_accuracy: 0.8234\n",
            "Epoch 4/50\n",
            "625/625 [==============================] - 2s 4ms/step - loss: 0.2719 - accuracy: 0.8856 - val_loss: 0.4002 - val_accuracy: 0.8259\n",
            "Epoch 5/50\n",
            "625/625 [==============================] - 2s 4ms/step - loss: 0.2409 - accuracy: 0.9011 - val_loss: 0.4194 - val_accuracy: 0.8193\n",
            "Epoch 6/50\n",
            "625/625 [==============================] - 2s 4ms/step - loss: 0.2065 - accuracy: 0.9159 - val_loss: 0.4810 - val_accuracy: 0.8013\n",
            "Epoch 7/50\n",
            "625/625 [==============================] - 2s 4ms/step - loss: 0.1737 - accuracy: 0.9330 - val_loss: 0.5080 - val_accuracy: 0.8082\n",
            "Epoch 8/50\n",
            "625/625 [==============================] - 3s 4ms/step - loss: 0.1397 - accuracy: 0.9478 - val_loss: 0.5620 - val_accuracy: 0.8064\n",
            "Epoch 9/50\n",
            "625/625 [==============================] - 2s 4ms/step - loss: 0.1148 - accuracy: 0.9589 - val_loss: 0.6243 - val_accuracy: 0.8052\n",
            "Epoch 10/50\n",
            "625/625 [==============================] - 2s 4ms/step - loss: 0.0957 - accuracy: 0.9655 - val_loss: 0.6908 - val_accuracy: 0.7971\n",
            "Epoch 11/50\n",
            "625/625 [==============================] - 2s 4ms/step - loss: 0.0749 - accuracy: 0.9759 - val_loss: 0.7689 - val_accuracy: 0.7958\n",
            "Epoch 12/50\n",
            "625/625 [==============================] - 2s 4ms/step - loss: 0.0665 - accuracy: 0.9780 - val_loss: 0.8811 - val_accuracy: 0.7919\n",
            "Epoch 13/50\n",
            "625/625 [==============================] - 2s 4ms/step - loss: 0.0578 - accuracy: 0.9809 - val_loss: 0.9728 - val_accuracy: 0.7948\n",
            "Epoch 14/50\n",
            "625/625 [==============================] - 2s 4ms/step - loss: 0.0440 - accuracy: 0.9853 - val_loss: 1.0742 - val_accuracy: 0.7793\n",
            "Epoch 15/50\n",
            "625/625 [==============================] - 2s 4ms/step - loss: 0.0452 - accuracy: 0.9838 - val_loss: 1.1171 - val_accuracy: 0.7904\n",
            "Epoch 16/50\n",
            "625/625 [==============================] - 2s 4ms/step - loss: 0.0348 - accuracy: 0.9889 - val_loss: 1.1755 - val_accuracy: 0.7910\n",
            "Epoch 17/50\n",
            "625/625 [==============================] - 2s 4ms/step - loss: 0.0386 - accuracy: 0.9869 - val_loss: 1.2883 - val_accuracy: 0.7900\n",
            "Epoch 18/50\n",
            "625/625 [==============================] - 2s 4ms/step - loss: 0.0367 - accuracy: 0.9865 - val_loss: 1.3403 - val_accuracy: 0.7915\n",
            "Epoch 19/50\n",
            "625/625 [==============================] - 2s 4ms/step - loss: 0.0347 - accuracy: 0.9866 - val_loss: 1.4107 - val_accuracy: 0.7837\n",
            "Epoch 20/50\n",
            "625/625 [==============================] - 2s 4ms/step - loss: 0.0298 - accuracy: 0.9889 - val_loss: 1.4858 - val_accuracy: 0.7801\n",
            "Epoch 21/50\n",
            "625/625 [==============================] - 2s 4ms/step - loss: 0.0273 - accuracy: 0.9892 - val_loss: 1.5415 - val_accuracy: 0.7942\n",
            "Epoch 22/50\n",
            "625/625 [==============================] - 2s 4ms/step - loss: 0.0294 - accuracy: 0.9878 - val_loss: 1.5507 - val_accuracy: 0.7909\n",
            "Epoch 23/50\n",
            "625/625 [==============================] - 2s 4ms/step - loss: 0.0301 - accuracy: 0.9887 - val_loss: 1.6506 - val_accuracy: 0.7919\n",
            "Epoch 24/50\n",
            "625/625 [==============================] - 2s 4ms/step - loss: 0.0269 - accuracy: 0.9886 - val_loss: 1.6123 - val_accuracy: 0.7912\n",
            "Epoch 25/50\n",
            "625/625 [==============================] - 2s 4ms/step - loss: 0.0278 - accuracy: 0.9885 - val_loss: 1.6899 - val_accuracy: 0.7892\n",
            "Epoch 26/50\n",
            "625/625 [==============================] - 2s 4ms/step - loss: 0.0238 - accuracy: 0.9899 - val_loss: 1.7924 - val_accuracy: 0.7880\n",
            "Epoch 27/50\n",
            "625/625 [==============================] - 2s 4ms/step - loss: 0.0229 - accuracy: 0.9908 - val_loss: 1.7929 - val_accuracy: 0.7851\n",
            "Epoch 28/50\n",
            "625/625 [==============================] - 2s 4ms/step - loss: 0.0220 - accuracy: 0.9915 - val_loss: 1.8423 - val_accuracy: 0.7858\n",
            "Epoch 29/50\n",
            "625/625 [==============================] - 2s 4ms/step - loss: 0.0220 - accuracy: 0.9908 - val_loss: 1.8890 - val_accuracy: 0.7892\n",
            "Epoch 30/50\n",
            "625/625 [==============================] - 2s 4ms/step - loss: 0.0300 - accuracy: 0.9872 - val_loss: 1.8176 - val_accuracy: 0.7907\n",
            "Epoch 31/50\n",
            "625/625 [==============================] - 2s 4ms/step - loss: 0.0234 - accuracy: 0.9910 - val_loss: 1.9955 - val_accuracy: 0.7907\n",
            "Epoch 32/50\n",
            "625/625 [==============================] - 2s 4ms/step - loss: 0.0212 - accuracy: 0.9916 - val_loss: 2.0023 - val_accuracy: 0.7883\n",
            "Epoch 33/50\n",
            "625/625 [==============================] - 2s 4ms/step - loss: 0.0191 - accuracy: 0.9921 - val_loss: 1.9899 - val_accuracy: 0.7891\n",
            "Epoch 34/50\n",
            "625/625 [==============================] - 2s 4ms/step - loss: 0.0215 - accuracy: 0.9909 - val_loss: 2.0742 - val_accuracy: 0.7834\n",
            "Epoch 35/50\n",
            "625/625 [==============================] - 2s 4ms/step - loss: 0.0191 - accuracy: 0.9915 - val_loss: 2.0959 - val_accuracy: 0.7866\n",
            "Epoch 36/50\n",
            "625/625 [==============================] - 2s 4ms/step - loss: 0.0186 - accuracy: 0.9922 - val_loss: 2.1642 - val_accuracy: 0.7846\n",
            "Epoch 37/50\n",
            "625/625 [==============================] - 2s 4ms/step - loss: 0.0178 - accuracy: 0.9926 - val_loss: 2.2119 - val_accuracy: 0.7831\n",
            "Epoch 38/50\n",
            "625/625 [==============================] - 2s 4ms/step - loss: 0.0244 - accuracy: 0.9910 - val_loss: 2.1547 - val_accuracy: 0.7933\n",
            "Epoch 39/50\n",
            "625/625 [==============================] - 2s 4ms/step - loss: 0.0237 - accuracy: 0.9895 - val_loss: 2.2070 - val_accuracy: 0.7925\n",
            "Epoch 40/50\n",
            "625/625 [==============================] - 2s 4ms/step - loss: 0.0198 - accuracy: 0.9914 - val_loss: 2.2531 - val_accuracy: 0.7924\n",
            "Epoch 41/50\n",
            "625/625 [==============================] - 2s 4ms/step - loss: 0.0165 - accuracy: 0.9919 - val_loss: 2.2669 - val_accuracy: 0.7855\n",
            "Epoch 42/50\n",
            "625/625 [==============================] - 2s 4ms/step - loss: 0.0169 - accuracy: 0.9924 - val_loss: 2.4237 - val_accuracy: 0.7882\n",
            "Epoch 43/50\n",
            "625/625 [==============================] - 2s 4ms/step - loss: 0.0204 - accuracy: 0.9917 - val_loss: 2.3677 - val_accuracy: 0.7906\n",
            "Epoch 44/50\n",
            "625/625 [==============================] - 2s 4ms/step - loss: 0.0229 - accuracy: 0.9898 - val_loss: 2.4679 - val_accuracy: 0.7940\n",
            "Epoch 45/50\n",
            "625/625 [==============================] - 2s 4ms/step - loss: 0.0157 - accuracy: 0.9933 - val_loss: 2.3483 - val_accuracy: 0.7933\n",
            "Epoch 46/50\n",
            "625/625 [==============================] - 2s 4ms/step - loss: 0.0204 - accuracy: 0.9917 - val_loss: 2.5561 - val_accuracy: 0.7874\n",
            "Epoch 47/50\n",
            "625/625 [==============================] - 2s 4ms/step - loss: 0.0210 - accuracy: 0.9906 - val_loss: 2.3624 - val_accuracy: 0.7992\n",
            "Epoch 48/50\n",
            "625/625 [==============================] - 2s 4ms/step - loss: 0.0190 - accuracy: 0.9916 - val_loss: 2.5583 - val_accuracy: 0.7846\n",
            "Epoch 49/50\n",
            "625/625 [==============================] - 2s 4ms/step - loss: 0.0184 - accuracy: 0.9922 - val_loss: 2.6449 - val_accuracy: 0.7909\n",
            "Epoch 50/50\n",
            "625/625 [==============================] - 2s 4ms/step - loss: 0.0219 - accuracy: 0.9910 - val_loss: 2.5628 - val_accuracy: 0.7904\n"
          ],
          "name": "stdout"
        }
      ]
    },
    {
      "cell_type": "code",
      "metadata": {
        "colab": {
          "base_uri": "https://localhost:8080/",
          "height": 542
        },
        "id": "g9DC6dmLF8DC",
        "outputId": "cef14aae-29a2-433d-ea92-fe22e759b6af"
      },
      "source": [
        "import matplotlib.pyplot as plt\n",
        "\n",
        "\n",
        "def plot_graphs(history, string):\n",
        "  plt.plot(history.history[string])\n",
        "  plt.plot(history.history['val_'+string])\n",
        "  plt.xlabel(\"Epochs\")\n",
        "  plt.ylabel(string)\n",
        "  plt.legend([string, 'val_'+string])\n",
        "  plt.show()\n",
        "\n",
        "plot_graphs(history, 'accuracy')\n",
        "plot_graphs(history, 'loss')"
      ],
      "execution_count": 3,
      "outputs": [
        {
          "output_type": "display_data",
          "data": {
            "image/png": "[encoded data removed]",
            "text/plain": [
              "<Figure size 432x288 with 1 Axes>"
            ]
          },
          "metadata": {
            "tags": [],
            "needs_background": "light"
          }
        },
        {
          "output_type": "display_data",
          "data": {
            "image/png": "[encoded data removed]",
            "text/plain": [
              "<Figure size 432x288 with 1 Axes>"
            ]
          },
          "metadata": {
            "tags": [],
            "needs_background": "light"
          }
        }
      ]
    },
    {
      "cell_type": "code",
      "metadata": {
        "id": "7ZEZIUppGhdi"
      },
      "source": [
        "model.save(\"test.h5\")"
      ],
      "execution_count": 4,
      "outputs": []
    }
  ]
}