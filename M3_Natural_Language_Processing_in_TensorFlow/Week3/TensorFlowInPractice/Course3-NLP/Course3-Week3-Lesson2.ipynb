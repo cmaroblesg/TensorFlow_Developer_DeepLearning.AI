{
  "nbformat": 4,
  "nbformat_minor": 0,
  "metadata": {
    "accelerator": "GPU",
    "colab": {
      "name": "Course 3 - Week 3 - Lesson 2.ipynb",
      "provenance": [],
      "collapsed_sections": [],
      "toc_visible": true
    },
    "kernelspec": {
      "display_name": "Python 3",
      "language": "python",
      "name": "python3"
    },
    "language_info": {
      "codemirror_mode": {
        "name": "ipython",
        "version": 3
      },
      "file_extension": ".py",
      "mimetype": "text/x-python",
      "name": "python",
      "nbconvert_exporter": "python",
      "pygments_lexer": "ipython3",
      "version": "3.7.6"
    }
  },
  "cells": [
    {
      "cell_type": "code",
      "metadata": {
        "id": "zX4Kg8DUTKWO"
      },
      "source": [
        "#@title Licensed under the Apache License, Version 2.0 (the \"License\");\n",
        "# you may not use this file except in compliance with the License.\n",
        "# You may obtain a copy of the License at\n",
        "#\n",
        "# https://www.apache.org/licenses/LICENSE-2.0\n",
        "#\n",
        "# Unless required by applicable law or agreed to in writing, software\n",
        "# distributed under the License is distributed on an \"AS IS\" BASIS,\n",
        "# WITHOUT WARRANTIES OR CONDITIONS OF ANY KIND, either express or implied.\n",
        "# See the License for the specific language governing permissions and\n",
        "# limitations under the License."
      ],
      "execution_count": 1,
      "outputs": []
    },
    {
      "cell_type": "markdown",
      "metadata": {
        "id": "G7CgDWz64YST"
      },
      "source": [
        "<a href=\"https://colab.research.google.com/github/lmoroney/dlaicourse/blob/master/TensorFlow%20In%20Practice/Course%203%20-%20NLP/Course%203%20-%20Week%203%20-%20Lesson%202.ipynb\" target=\"_parent\"><img src=\"https://colab.research.google.com/assets/colab-badge.svg\" alt=\"Open In Colab\"/></a>"
      ]
    },
    {
      "cell_type": "code",
      "metadata": {
        "colab": {
          "base_uri": "https://localhost:8080/"
        },
        "id": "jGwXGIXvFhXW",
        "outputId": "3bda8778-f0b5-402b-a709-379f51e90893"
      },
      "source": [
        "import numpy as np\n",
        "\n",
        "import json\n",
        "import tensorflow as tf\n",
        "\n",
        "from tensorflow.keras.preprocessing.text import Tokenizer\n",
        "from tensorflow.keras.preprocessing.sequence import pad_sequences\n",
        "\n",
        "!wget --no-check-certificate \\\n",
        "    https://storage.googleapis.com/laurencemoroney-blog.appspot.com/sarcasm.json \\\n",
        "    -O /tmp/sarcasm.json\n",
        "\n",
        "vocab_size = 1000\n",
        "embedding_dim = 16\n",
        "max_length = 120\n",
        "trunc_type='post'\n",
        "padding_type='post'\n",
        "oov_tok = \"<OOV>\"\n",
        "training_size = 20000\n",
        "\n",
        "\n",
        "with open(\"/tmp/sarcasm.json\", 'r') as f:\n",
        "    datastore = json.load(f)\n",
        "\n",
        "\n",
        "sentences = []\n",
        "labels = []\n",
        "urls = []\n",
        "for item in datastore:\n",
        "    sentences.append(item['headline'])\n",
        "    labels.append(item['is_sarcastic'])\n",
        "\n",
        "training_sentences = sentences[0:training_size]\n",
        "testing_sentences = sentences[training_size:]\n",
        "training_labels = labels[0:training_size]\n",
        "testing_labels = labels[training_size:]\n",
        "\n",
        "tokenizer = Tokenizer(num_words=vocab_size, oov_token=oov_tok)\n",
        "tokenizer.fit_on_texts(training_sentences)\n",
        "\n",
        "word_index = tokenizer.word_index\n",
        "\n",
        "training_sequences = tokenizer.texts_to_sequences(training_sentences)\n",
        "training_padded = pad_sequences(training_sequences, maxlen=max_length, padding=padding_type, truncating=trunc_type)\n",
        "\n",
        "testing_sequences = tokenizer.texts_to_sequences(testing_sentences)\n",
        "testing_padded = pad_sequences(testing_sequences, maxlen=max_length, padding=padding_type, truncating=trunc_type)\n",
        "\n",
        "model = tf.keras.Sequential([\n",
        "    tf.keras.layers.Embedding(vocab_size, embedding_dim, input_length=max_length),\n",
        "    tf.keras.layers.Bidirectional(tf.keras.layers.LSTM(32)),\n",
        "    tf.keras.layers.Dense(24, activation='relu'),\n",
        "    tf.keras.layers.Dense(1, activation='sigmoid')\n",
        "])\n",
        "model.compile(loss='binary_crossentropy',optimizer='adam',metrics=['accuracy'])\n",
        "model.summary()\n",
        "\n",
        "num_epochs = 50\n",
        "training_padded = np.array(training_padded)\n",
        "training_labels = np.array(training_labels)\n",
        "testing_padded = np.array(testing_padded)\n",
        "testing_labels = np.array(testing_labels)\n",
        "history = model.fit(training_padded, training_labels, epochs=num_epochs, validation_data=(testing_padded, testing_labels), verbose=1)\n"
      ],
      "execution_count": 2,
      "outputs": [
        {
          "output_type": "stream",
          "text": [
            "--2021-05-23 01:40:56--  https://storage.googleapis.com/laurencemoroney-blog.appspot.com/sarcasm.json\n",
            "Resolving storage.googleapis.com (storage.googleapis.com)... 142.250.141.128, 2607:f8b0:4023:c03::80, 2607:f8b0:4023:c0b::80\n",
            "Connecting to storage.googleapis.com (storage.googleapis.com)|142.250.141.128|:443... connected.\n",
            "HTTP request sent, awaiting response... 200 OK\n",
            "Length: 5643545 (5.4M) [application/json]\n",
            "Saving to: ‘/tmp/sarcasm.json’\n",
            "\n",
            "\r/tmp/sarcasm.json     0%[                    ]       0  --.-KB/s               \r/tmp/sarcasm.json   100%[===================>]   5.38M  --.-KB/s    in 0.05s   \n",
            "\n",
            "2021-05-23 01:40:56 (103 MB/s) - ‘/tmp/sarcasm.json’ saved [5643545/5643545]\n",
            "\n",
            "Model: \"sequential\"\n",
            "_________________________________________________________________\n",
            "Layer (type)                 Output Shape              Param #   \n",
            "=================================================================\n",
            "embedding (Embedding)        (None, 120, 16)           16000     \n",
            "_________________________________________________________________\n",
            "bidirectional (Bidirectional (None, 64)                12544     \n",
            "_________________________________________________________________\n",
            "dense (Dense)                (None, 24)                1560      \n",
            "_________________________________________________________________\n",
            "dense_1 (Dense)              (None, 1)                 25        \n",
            "=================================================================\n",
            "Total params: 30,129\n",
            "Trainable params: 30,129\n",
            "Non-trainable params: 0\n",
            "_________________________________________________________________\n",
            "Epoch 1/50\n",
            "625/625 [==============================] - 42s 14ms/step - loss: 0.5428 - accuracy: 0.6977 - val_loss: 0.3863 - val_accuracy: 0.8225\n",
            "Epoch 2/50\n",
            "625/625 [==============================] - 7s 12ms/step - loss: 0.3545 - accuracy: 0.8372 - val_loss: 0.3831 - val_accuracy: 0.8235\n",
            "Epoch 3/50\n",
            "625/625 [==============================] - 7s 12ms/step - loss: 0.3374 - accuracy: 0.8473 - val_loss: 0.3772 - val_accuracy: 0.8299\n",
            "Epoch 4/50\n",
            "625/625 [==============================] - 7s 12ms/step - loss: 0.3188 - accuracy: 0.8577 - val_loss: 0.3753 - val_accuracy: 0.8298\n",
            "Epoch 5/50\n",
            "625/625 [==============================] - 8s 12ms/step - loss: 0.2974 - accuracy: 0.8691 - val_loss: 0.3775 - val_accuracy: 0.8322\n",
            "Epoch 6/50\n",
            "625/625 [==============================] - 8s 12ms/step - loss: 0.2894 - accuracy: 0.8719 - val_loss: 0.3760 - val_accuracy: 0.8317\n",
            "Epoch 7/50\n",
            "625/625 [==============================] - 8s 12ms/step - loss: 0.2815 - accuracy: 0.8772 - val_loss: 0.3843 - val_accuracy: 0.8307\n",
            "Epoch 8/50\n",
            "625/625 [==============================] - 7s 12ms/step - loss: 0.2649 - accuracy: 0.8863 - val_loss: 0.3807 - val_accuracy: 0.8302\n",
            "Epoch 9/50\n",
            "625/625 [==============================] - 8s 12ms/step - loss: 0.2650 - accuracy: 0.8867 - val_loss: 0.3941 - val_accuracy: 0.8278\n",
            "Epoch 10/50\n",
            "625/625 [==============================] - 7s 12ms/step - loss: 0.2482 - accuracy: 0.8924 - val_loss: 0.4078 - val_accuracy: 0.8272\n",
            "Epoch 11/50\n",
            "625/625 [==============================] - 8s 12ms/step - loss: 0.2411 - accuracy: 0.8974 - val_loss: 0.3951 - val_accuracy: 0.8299\n",
            "Epoch 12/50\n",
            "625/625 [==============================] - 7s 12ms/step - loss: 0.2446 - accuracy: 0.8966 - val_loss: 0.4162 - val_accuracy: 0.8261\n",
            "Epoch 13/50\n",
            "625/625 [==============================] - 7s 12ms/step - loss: 0.2286 - accuracy: 0.9032 - val_loss: 0.4312 - val_accuracy: 0.8225\n",
            "Epoch 14/50\n",
            "625/625 [==============================] - 8s 12ms/step - loss: 0.2224 - accuracy: 0.9091 - val_loss: 0.4392 - val_accuracy: 0.8195\n",
            "Epoch 15/50\n",
            "625/625 [==============================] - 8s 12ms/step - loss: 0.2126 - accuracy: 0.9126 - val_loss: 0.4698 - val_accuracy: 0.8185\n",
            "Epoch 16/50\n",
            "625/625 [==============================] - 8s 12ms/step - loss: 0.2067 - accuracy: 0.9114 - val_loss: 0.4508 - val_accuracy: 0.8228\n",
            "Epoch 17/50\n",
            "625/625 [==============================] - 8s 12ms/step - loss: 0.1988 - accuracy: 0.9199 - val_loss: 0.5187 - val_accuracy: 0.8126\n",
            "Epoch 18/50\n",
            "625/625 [==============================] - 8s 12ms/step - loss: 0.1907 - accuracy: 0.9216 - val_loss: 0.5179 - val_accuracy: 0.8159\n",
            "Epoch 19/50\n",
            "625/625 [==============================] - 8s 12ms/step - loss: 0.1875 - accuracy: 0.9242 - val_loss: 0.5573 - val_accuracy: 0.8131\n",
            "Epoch 20/50\n",
            "625/625 [==============================] - 7s 12ms/step - loss: 0.1817 - accuracy: 0.9272 - val_loss: 0.6549 - val_accuracy: 0.8143\n",
            "Epoch 21/50\n",
            "625/625 [==============================] - 7s 12ms/step - loss: 0.1788 - accuracy: 0.9288 - val_loss: 0.5890 - val_accuracy: 0.8094\n",
            "Epoch 22/50\n",
            "625/625 [==============================] - 8s 12ms/step - loss: 0.1644 - accuracy: 0.9345 - val_loss: 0.5611 - val_accuracy: 0.8085\n",
            "Epoch 23/50\n",
            "625/625 [==============================] - 8s 12ms/step - loss: 0.1659 - accuracy: 0.9347 - val_loss: 0.6390 - val_accuracy: 0.8094\n",
            "Epoch 24/50\n",
            "625/625 [==============================] - 8s 12ms/step - loss: 0.1600 - accuracy: 0.9356 - val_loss: 0.6952 - val_accuracy: 0.8055\n",
            "Epoch 25/50\n",
            "625/625 [==============================] - 8s 12ms/step - loss: 0.1469 - accuracy: 0.9408 - val_loss: 0.6758 - val_accuracy: 0.8129\n",
            "Epoch 26/50\n",
            "625/625 [==============================] - 8s 12ms/step - loss: 0.1462 - accuracy: 0.9432 - val_loss: 0.7670 - val_accuracy: 0.8079\n",
            "Epoch 27/50\n",
            "625/625 [==============================] - 8s 13ms/step - loss: 0.1379 - accuracy: 0.9456 - val_loss: 0.7414 - val_accuracy: 0.8062\n",
            "Epoch 28/50\n",
            "625/625 [==============================] - 8s 12ms/step - loss: 0.1326 - accuracy: 0.9458 - val_loss: 0.8580 - val_accuracy: 0.8116\n",
            "Epoch 29/50\n",
            "625/625 [==============================] - 8s 12ms/step - loss: 0.1281 - accuracy: 0.9490 - val_loss: 0.9322 - val_accuracy: 0.8032\n",
            "Epoch 30/50\n",
            "625/625 [==============================] - 8s 12ms/step - loss: 0.1266 - accuracy: 0.9481 - val_loss: 0.9444 - val_accuracy: 0.8037\n",
            "Epoch 31/50\n",
            "625/625 [==============================] - 8s 12ms/step - loss: 0.1236 - accuracy: 0.9491 - val_loss: 0.9773 - val_accuracy: 0.8080\n",
            "Epoch 32/50\n",
            "625/625 [==============================] - 8s 12ms/step - loss: 0.1242 - accuracy: 0.9515 - val_loss: 1.0014 - val_accuracy: 0.8062\n",
            "Epoch 33/50\n",
            "625/625 [==============================] - 8s 12ms/step - loss: 0.1148 - accuracy: 0.9532 - val_loss: 1.0037 - val_accuracy: 0.8056\n",
            "Epoch 34/50\n",
            "625/625 [==============================] - 8s 12ms/step - loss: 0.1072 - accuracy: 0.9585 - val_loss: 1.1009 - val_accuracy: 0.8034\n",
            "Epoch 35/50\n",
            "625/625 [==============================] - 8s 12ms/step - loss: 0.0966 - accuracy: 0.9594 - val_loss: 1.1116 - val_accuracy: 0.7998\n",
            "Epoch 36/50\n",
            "625/625 [==============================] - 8s 12ms/step - loss: 0.1008 - accuracy: 0.9582 - val_loss: 1.1181 - val_accuracy: 0.8015\n",
            "Epoch 37/50\n",
            "625/625 [==============================] - 8s 12ms/step - loss: 0.1011 - accuracy: 0.9587 - val_loss: 1.1595 - val_accuracy: 0.8074\n",
            "Epoch 38/50\n",
            "625/625 [==============================] - 8s 12ms/step - loss: 0.0924 - accuracy: 0.9622 - val_loss: 1.1408 - val_accuracy: 0.8013\n",
            "Epoch 39/50\n",
            "625/625 [==============================] - 8s 12ms/step - loss: 0.0930 - accuracy: 0.9619 - val_loss: 1.2435 - val_accuracy: 0.8030\n",
            "Epoch 40/50\n",
            "625/625 [==============================] - 8s 12ms/step - loss: 0.0858 - accuracy: 0.9657 - val_loss: 1.2444 - val_accuracy: 0.8070\n",
            "Epoch 41/50\n",
            "625/625 [==============================] - 8s 12ms/step - loss: 0.0833 - accuracy: 0.9645 - val_loss: 1.2701 - val_accuracy: 0.8082\n",
            "Epoch 42/50\n",
            "625/625 [==============================] - 8s 12ms/step - loss: 0.0778 - accuracy: 0.9670 - val_loss: 1.4139 - val_accuracy: 0.8044\n",
            "Epoch 43/50\n",
            "625/625 [==============================] - 8s 12ms/step - loss: 0.0833 - accuracy: 0.9631 - val_loss: 1.4468 - val_accuracy: 0.8019\n",
            "Epoch 44/50\n",
            "625/625 [==============================] - 8s 12ms/step - loss: 0.0775 - accuracy: 0.9663 - val_loss: 1.3907 - val_accuracy: 0.8022\n",
            "Epoch 45/50\n",
            "625/625 [==============================] - 8s 12ms/step - loss: 0.0778 - accuracy: 0.9653 - val_loss: 1.5297 - val_accuracy: 0.8001\n",
            "Epoch 46/50\n",
            "625/625 [==============================] - 8s 12ms/step - loss: 0.0756 - accuracy: 0.9666 - val_loss: 1.4904 - val_accuracy: 0.8086\n",
            "Epoch 47/50\n",
            "625/625 [==============================] - 8s 12ms/step - loss: 0.0716 - accuracy: 0.9683 - val_loss: 1.4881 - val_accuracy: 0.8006\n",
            "Epoch 48/50\n",
            "625/625 [==============================] - 8s 12ms/step - loss: 0.0792 - accuracy: 0.9671 - val_loss: 1.5466 - val_accuracy: 0.8038\n",
            "Epoch 49/50\n",
            "625/625 [==============================] - 8s 12ms/step - loss: 0.0664 - accuracy: 0.9708 - val_loss: 1.6033 - val_accuracy: 0.8024\n",
            "Epoch 50/50\n",
            "625/625 [==============================] - 8s 12ms/step - loss: 0.0675 - accuracy: 0.9706 - val_loss: 1.6367 - val_accuracy: 0.8041\n"
          ],
          "name": "stdout"
        }
      ]
    },
    {
      "cell_type": "code",
      "metadata": {
        "colab": {
          "base_uri": "https://localhost:8080/",
          "height": 541
        },
        "id": "g9DC6dmLF8DC",
        "outputId": "291b8b76-ea1b-4001-d821-2e136c5ae83b"
      },
      "source": [
        "import matplotlib.pyplot as plt\n",
        "\n",
        "\n",
        "def plot_graphs(history, string):\n",
        "  plt.plot(history.history[string])\n",
        "  plt.plot(history.history['val_'+string])\n",
        "  plt.xlabel(\"Epochs\")\n",
        "  plt.ylabel(string)\n",
        "  plt.legend([string, 'val_'+string])\n",
        "  plt.show()\n",
        "\n",
        "plot_graphs(history, 'accuracy')\n",
        "plot_graphs(history, 'loss')"
      ],
      "execution_count": 3,
      "outputs": [
        {
          "output_type": "display_data",
          "data": {
            "image/png": "[encoded data removed]",
            "text/plain": [
              "<Figure size 432x288 with 1 Axes>"
            ]
          },
          "metadata": {
            "tags": [],
            "needs_background": "light"
          }
        },
        {
          "output_type": "display_data",
          "data": {
            "image/png": "[encoded data removed]",
            "text/plain": [
              "<Figure size 432x288 with 1 Axes>"
            ]
          },
          "metadata": {
            "tags": [],
            "needs_background": "light"
          }
        }
      ]
    },
    {
      "cell_type": "code",
      "metadata": {
        "id": "7ZEZIUppGhdi"
      },
      "source": [
        "model.save(\"test.h5\")"
      ],
      "execution_count": 4,
      "outputs": []
    }
  ]
}